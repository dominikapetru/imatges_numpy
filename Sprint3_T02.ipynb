{
 "cells": [
  {
   "cell_type": "markdown",
   "id": "2ee5733a-bfbd-45c8-bc85-4e7747422cbf",
   "metadata": {
    "tags": []
   },
   "source": [
    "#Sprint 3, T02"
   ]
  },
  {
   "cell_type": "markdown",
   "id": "84037af9-b6e1-421a-a7cb-a1c25a0f8797",
   "metadata": {},
   "source": [
    "##Nivell 1"
   ]
  },
  {
   "cell_type": "code",
   "execution_count": 72,
   "id": "2150e2e1-0d69-458a-aebd-55a24eea04bb",
   "metadata": {},
   "outputs": [
    {
     "name": "stdout",
     "output_type": "stream",
     "text": [
      "Firt array dimension is:  1\n",
      "Shape of this array is:  (8,)\n",
      "Median - mean of this array is:  -3.0\n",
      "Maximum value of second array is:  68\n",
      "Maximum values of axis 0 is:  [30 30 23 68 56]\n",
      "Maximum values of axis 1 is:  [30 50 68 43 56]\n"
     ]
    }
   ],
   "source": [
    "import numpy as np\n",
    "a = np.array([20,30,8,6,9,21,64,18], dtype = int)\n",
    "print(\"Firt array dimension is: \", (a.ndim))\n",
    "print(\"Shape of this array is: \", (a.shape))\n",
    "\n",
    "b = np.median(a)\n",
    "c = np.mean(a)\n",
    "print(\"Median - mean of this array is: \",(b - c))\n",
    "\n",
    "d = np.array([(20,30,8,6,9),(3,15,16,21,50),(30,15,16,68,50),(3,15,23,21,43),(3,15,16,21,56)], dtype = int)\n",
    "print(\"Maximum value of second array is: \", (np.amax(d)))\n",
    "\n",
    "e = np.amax(d, axis=0)\n",
    "print(\"Maximum values of axis 0 is: \", e)\n",
    "f = np.amax(d, axis=1)\n",
    "print(\"Maximum values of axis 1 is: \", f)"
   ]
  },
  {
   "cell_type": "markdown",
   "id": "5da716da-b904-4d46-bcea-f6ba0ed73f39",
   "metadata": {},
   "source": [
    "##Nivell 2"
   ]
  },
  {
   "cell_type": "markdown",
   "id": "d69a079d-0c45-4652-a350-d9fb350bc532",
   "metadata": {},
   "source": [
    "###Broadcasting - Equal dimension - arrays must have same dimension"
   ]
  },
  {
   "cell_type": "code",
   "execution_count": 9,
   "id": "4941c160-f2ee-42c4-863b-59d125caf94c",
   "metadata": {},
   "outputs": [
    {
     "name": "stdout",
     "output_type": "stream",
     "text": [
      "[2. 4. 6.]\n"
     ]
    }
   ],
   "source": [
    "a = np.array([1.0, 2.0, 3.0], dtype = float)\n",
    "b = np.array([2.0, 2.0, 2.0], dtype = float)\n",
    "print(a * b)"
   ]
  },
  {
   "cell_type": "markdown",
   "id": "d8ca2a6e-31ce-4ebd-aa84-ee95c9ef1939",
   "metadata": {},
   "source": [
    "###Broadcasting - One of them is 1 - arrays of different dimensions"
   ]
  },
  {
   "cell_type": "code",
   "execution_count": 10,
   "id": "8f382caa-cdff-4a09-89b1-8b53a2b3b540",
   "metadata": {},
   "outputs": [
    {
     "name": "stdout",
     "output_type": "stream",
     "text": [
      "[[1. 2. 3.]\n",
      " [4. 5. 6.]]\n"
     ]
    }
   ],
   "source": [
    "a = np.array([(1.0, 2.0, 3.0),(4.0, 5.0, 6.0)], dtype = float)\n",
    "b = np.array([1.0, 1.0, 1.0])\n",
    "print(a * b)"
   ]
  },
  {
   "cell_type": "markdown",
   "id": "3849e214-87ec-4ff2-ba83-fe4d93a8e66c",
   "metadata": {},
   "source": [
    "###Indexation"
   ]
  },
  {
   "cell_type": "code",
   "execution_count": 73,
   "id": "e02a2dcb-9a48-466b-8eea-fb2d4f3490ee",
   "metadata": {},
   "outputs": [
    {
     "name": "stdout",
     "output_type": "stream",
     "text": [
      "Sum of numbers in column3 + row3:  50.0\n"
     ]
    }
   ],
   "source": [
    "a = np.array([(1.0, 2.0, 3.0),(4.0, 5.0, 8.0),(7.0, 8.0, 12.0)], dtype = float)\n",
    "print(\"Sum of numbers in column3 + row3: \", a[0, 2] + a[1, 2] + a[2, 2] + a[2, 0] + a[2, 1] + a[2, 2])"
   ]
  },
  {
   "cell_type": "markdown",
   "id": "b7c9a8c0-397e-433d-a88b-be77e4b5976b",
   "metadata": {},
   "source": [
    "###Divisible by 4?"
   ]
  },
  {
   "cell_type": "code",
   "execution_count": 74,
   "id": "fb42db77-a6ca-4ade-a767-ee3b1c88e861",
   "metadata": {},
   "outputs": [
    {
     "name": "stdout",
     "output_type": "stream",
     "text": [
      "[False, True, True]\n"
     ]
    }
   ],
   "source": [
    "a = np.array([(1.0, 2.0, 3.0),(4.0, 5.0, 8.0),(7.0, 8.0, 12.0)], dtype = float)\n",
    "filter_arr = []\n",
    "for element in a:\n",
    "\n",
    "  if np.any(element % 4 == 0,axis = 0):\n",
    "    filter_arr.append(True)\n",
    "  else:\n",
    "    filter_arr.append(False)\n",
    "    \n",
    "print(filter_arr)"
   ]
  },
  {
   "cell_type": "markdown",
   "id": "086abc1b-5a5c-410d-90d5-e02038abea0e",
   "metadata": {},
   "source": [
    "###Reshaping, flattering with mask"
   ]
  },
  {
   "cell_type": "code",
   "execution_count": 75,
   "id": "6347b60f-4112-41ab-b23c-1514004230f2",
   "metadata": {},
   "outputs": [
    {
     "name": "stdout",
     "output_type": "stream",
     "text": [
      "[ 4.  5.  8.  7.  8. 12.]\n"
     ]
    }
   ],
   "source": [
    "a = np.array([(1.0, 2.0, 3.0),(4.0, 5.0, 8.0),(7.0, 8.0, 12.0)], dtype = float)\n",
    "filter_arr = []\n",
    "for element in a:\n",
    "\n",
    "  if np.any(element % 4 == 0,axis = 0):\n",
    "    filter_arr.append(True)\n",
    "  else:\n",
    "    filter_arr.append(False)\n",
    "    \n",
    "b = a[filter_arr]\n",
    "newarr = b.reshape(-1)\n",
    "print(newarr)"
   ]
  }
 ],
 "metadata": {
  "kernelspec": {
   "display_name": "Python 3",
   "language": "python",
   "name": "python3"
  },
  "language_info": {
   "codemirror_mode": {
    "name": "ipython",
    "version": 3
   },
   "file_extension": ".py",
   "mimetype": "text/x-python",
   "name": "python",
   "nbconvert_exporter": "python",
   "pygments_lexer": "ipython3",
   "version": "3.8.8"
  }
 },
 "nbformat": 4,
 "nbformat_minor": 5
}
