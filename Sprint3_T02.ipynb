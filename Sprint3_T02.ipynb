{
 "cells": [
  {
   "cell_type": "markdown",
   "id": "2ee5733a-bfbd-45c8-bc85-4e7747422cbf",
   "metadata": {
    "tags": []
   },
   "source": [
    "#Sprint 3, T02"
   ]
  },
  {
   "cell_type": "markdown",
   "id": "84037af9-b6e1-421a-a7cb-a1c25a0f8797",
   "metadata": {},
   "source": [
    "##Nivell 1"
   ]
  },
  {
   "cell_type": "code",
   "execution_count": 45,
   "id": "2150e2e1-0d69-458a-aebd-55a24eea04bb",
   "metadata": {},
   "outputs": [
    {
     "name": "stdout",
     "output_type": "stream",
     "text": [
      "1\n",
      "(8,)\n",
      "-3.0\n",
      "2\n",
      "(5, 5)\n",
      "68\n",
      "[30 30 23 68 56]\n",
      "[30 50 68 43 56]\n"
     ]
    }
   ],
   "source": [
    "import numpy as np\n",
    "a = np.array([20,30,8,6,9,21,64,18], dtype = int)\n",
    "print(a.ndim)\n",
    "print(a.shape)\n",
    "\n",
    "b = np.median(a)\n",
    "c = np.mean(a)\n",
    "print(b - c)\n",
    "\n",
    "d = np.array([(20,30,8,6,9),(3,15,16,21,50),(30,15,16,68,50),(3,15,23,21,43),(3,15,16,21,56)], dtype = int)\n",
    "print(d.ndim)\n",
    "print(d.shape)\n",
    "print(np.amax(d))\n",
    "\n",
    "e = np.amax(d, axis=0)\n",
    "print(e)\n",
    "f = np.amax(d, axis=1)\n",
    "print(f)"
   ]
  },
  {
   "cell_type": "markdown",
   "id": "5da716da-b904-4d46-bcea-f6ba0ed73f39",
   "metadata": {},
   "source": [
    "##Nivell 2"
   ]
  },
  {
   "cell_type": "markdown",
   "id": "d69a079d-0c45-4652-a350-d9fb350bc532",
   "metadata": {},
   "source": [
    "###Broadcasting - Equal dimension"
   ]
  },
  {
   "cell_type": "code",
   "execution_count": 48,
   "id": "4941c160-f2ee-42c4-863b-59d125caf94c",
   "metadata": {},
   "outputs": [
    {
     "name": "stdout",
     "output_type": "stream",
     "text": [
      "[2. 4. 6.]\n"
     ]
    }
   ],
   "source": [
    "a = np.array([1.0, 2.0, 3.0], dtype = float)\n",
    "b = np.array([2.0, 2.0, 2.0], dtype = float)\n",
    "print(a * b)"
   ]
  },
  {
   "cell_type": "markdown",
   "id": "d8ca2a6e-31ce-4ebd-aa84-ee95c9ef1939",
   "metadata": {},
   "source": [
    "###Broadcasting - one of them is 1"
   ]
  },
  {
   "cell_type": "code",
   "execution_count": 53,
   "id": "8f382caa-cdff-4a09-89b1-8b53a2b3b540",
   "metadata": {},
   "outputs": [
    {
     "name": "stdout",
     "output_type": "stream",
     "text": [
      "[[1. 2. 3.]\n",
      " [4. 5. 6.]]\n"
     ]
    }
   ],
   "source": [
    "a = np.array([(1.0, 2.0, 3.0),(4.0, 5.0, 6.0)], dtype = float)\n",
    "b = np.array([1.0, 1.0, 1.0])\n",
    "print(a * b)"
   ]
  },
  {
   "cell_type": "code",
   "execution_count": null,
   "id": "395332d5-4194-4ea4-aeae-24c46018a072",
   "metadata": {},
   "outputs": [],
   "source": []
  }
 ],
 "metadata": {
  "kernelspec": {
   "display_name": "Python 3",
   "language": "python",
   "name": "python3"
  },
  "language_info": {
   "codemirror_mode": {
    "name": "ipython",
    "version": 3
   },
   "file_extension": ".py",
   "mimetype": "text/x-python",
   "name": "python",
   "nbconvert_exporter": "python",
   "pygments_lexer": "ipython3",
   "version": "3.8.8"
  }
 },
 "nbformat": 4,
 "nbformat_minor": 5
}
